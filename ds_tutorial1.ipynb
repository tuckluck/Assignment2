{
 "cells": [
  {
   "cell_type": "code",
   "execution_count": null,
   "id": "5df01d08-a475-4aa7-a10a-677d27a1f0b2",
   "metadata": {},
   "outputs": [],
   "source": [
    "from Scripts import direct_stiffness as ds\n",
    "import numpy as np"
   ]
  },
  {
   "cell_type": "markdown",
   "id": "448c20d4-4018-47aa-a0c0-d14de229db78",
   "metadata": {},
   "source": [
    "Welcome to the tutorial. To run your own test, enter data into the 4 matrices below. "
   ]
  },
  {
   "cell_type": "code",
   "execution_count": null,
   "id": "953ad17f-ad2a-4b0e-a758-f8346d56d7e9",
   "metadata": {},
   "outputs": [],
   "source": [
    "#enter x, y , z coordinates as a row for each node\n",
    "#the first row will be considered node 1 and so on\n",
    "node_cordinates = np.matrix([[0,0,0],\n",
    "                      [1,0,0],\n",
    "                      [1,1,0],\n",
    "                      [0,1,0]])\n",
    "\n",
    "#enter nodal forces/torques for each node as a row (Fx, Fy, Fx, Mx, My, Mz)\n",
    "#the first row will be considered node 1 and so on\n",
    "node_force = np.matrix([[0,0,0,0,0,0],\n",
    "                        [0,0,0,0,0,0],\n",
    "                        [5,0,0,0,0,0],\n",
    "                        [0,0,0,0,0,0]])\n",
    "\n",
    "#enter nodal degrees of freedom for each node as a row (x,y,z,rot_x,rot_y,rot_z)\n",
    "#0 for constrained and 1 for free\n",
    "#the first row will be considered node 1 and so on\n",
    "node_DOF = np.matrix([[0,0,0,0,0,0],\n",
    "                      [0,0,0,1,1,1],\n",
    "                      [1,1,1,1,1,1],\n",
    "                      [1,1,1,1,1,1]])\n",
    "\n",
    "#enter member properties and connecting nodes E, nu, A, Iy, Iz, J, 1, 2\n",
    "#the first row will be considered member A, the second row will be member B and so on\n",
    "members = np.matrix([[100, .5, 2, 10, 10, 10, 1, 2],\n",
    "                    [100, .5, 2, 10, 10, 10, 3, 2],\n",
    "                    [100, .5, 2, 10, 10, 10, 3, 4],\n",
    "                    [100, .5, 2, 10, 10, 10, 4, 1],\n",
    "                    [100, .5, 2, 10, 10, 10, 1, 3]])\n",
    "\n",
    "\n",
    "#dont enter data below this line. -----------------------------------------------------\n",
    "\n",
    "F_global = np.zeros((len(node_DOF)*6, 1))  # 24x1 zero matrix    \n",
    "DOF_global = np.zeros((len(node_DOF)*6, 1))  # 24x1 zero matrix\n",
    "\n",
    "for i in range(len(node_force)):  \n",
    "    F_global[i*6:i*6+6, 0] = node_force[i].flatten()\n",
    "\n",
    "for i in range(len(node_DOF)):  \n",
    "    DOF_global[i*6:i*6+6, 0] = node_DOF[i].flatten()\n",
    "\n",
    "K_global = ds.global_stiffness_mat(members,node_cordinates)\n",
    "\n",
    "displacements, reaction_forces = ds.solve_for_displacements_and_reactions(K_global, F_global, node_DOF)\n",
    "\n",
    "print(\"Displacements (in global coordinate system):\")\n",
    "print(displacements)\n",
    "\n",
    "print(\"Reaction forces (at constrained DOFs):\")\n",
    "print(reaction_forces)"
   ]
  },
  {
   "cell_type": "code",
   "execution_count": null,
   "id": "8815099e-01c0-44eb-80f3-91e95082d45f",
   "metadata": {},
   "outputs": [],
   "source": []
  }
 ],
 "metadata": {
  "kernelspec": {
   "display_name": "Python 3 (ipykernel)",
   "language": "python",
   "name": "python3"
  },
  "language_info": {
   "codemirror_mode": {
    "name": "ipython",
    "version": 3
   },
   "file_extension": ".py",
   "mimetype": "text/x-python",
   "name": "python",
   "nbconvert_exporter": "python",
   "pygments_lexer": "ipython3",
   "version": "3.9.13"
  }
 },
 "nbformat": 4,
 "nbformat_minor": 5
}
